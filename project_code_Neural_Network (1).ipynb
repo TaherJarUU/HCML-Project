{
  "cells": [
    {
      "cell_type": "code",
      "execution_count": 1,
      "metadata": {
        "colab": {
          "base_uri": "https://localhost:8080/"
        },
        "id": "iU40oz8K4bz7",
        "outputId": "fd2b7625-6dbb-44a3-f834-22da5a1d950e"
      },
      "outputs": [
        {
          "output_type": "stream",
          "name": "stdout",
          "text": [
            "Mounted at /content/drive\n"
          ]
        }
      ],
      "source": [
        "import numpy as np\n",
        "import pandas as pd\n",
        "from sklearn.preprocessing import OneHotEncoder\n",
        "from sklearn.model_selection import GroupShuffleSplit\n",
        "\n",
        "from google.colab import drive\n",
        "drive.mount('/content/drive')\n",
        "diabetes_dataset = pd.read_csv('/content/drive/My Drive/diabetic_data.csv')\n",
        "diabetes_dataset.drop(axis=1, columns=['weight', 'medical_specialty', 'payer_code'], inplace=True)\n",
        "diabetes_dataset = diabetes_dataset.sort_values(by=['patient_nbr', 'encounter_id'])\n",
        "# Define the ranges and replacement values\n",
        "ICD9_mapping = [\n",
        "    ((1, 139), 'Infectious And Parasitic Diseases'),\n",
        "    ((140, 239), 'Neoplasms'),\n",
        "    ((240, 279), 'Endocrine, Nutritional And Metabolic Diseases, And Immunity Disorders'),\n",
        "    ((280, 289), 'Diseases Of The Blood And Blood-Forming Organs'),\n",
        "    ((290, 319), 'Mental Disorders'),\n",
        "    ((320, 389), 'Diseases Of The Nervous System And Sense Organs'),\n",
        "    ((390, 459), 'Diseases Of The Circulatory System'),\n",
        "    ((460, 519), 'Diseases Of The Respiratory System'),\n",
        "    ((520, 579), 'Diseases Of The Digestive System'),\n",
        "    ((580, 629), 'Diseases Of The Genitourinary System'),\n",
        "    ((630, 679), 'Complications Of Pregnancy, Childbirth, And The Puerperium'),\n",
        "    ((680, 709), 'Diseases Of The Skin And Subcutaneous Tissue'),\n",
        "    ((710, 739), 'Diseases Of The Musculoskeletal System And Connective Tissue'),\n",
        "    ((740, 759), 'Congenital Anomalies'),\n",
        "    ((760, 779), 'Certain Conditions Originating In The Perinatal Period'),\n",
        "    ((780, 799), 'Symptoms, Signs, And Ill-Defined Conditions'),\n",
        "    ((800, 999), 'Injury And Poisoning'),\n",
        "    ('V', 'Supplementary Classification Of Factors Influencing Health Status And Contact With Health Services'),\n",
        "    ('E', 'Supplementary Classification Of External Causes Of Injury And Poisoning')\n",
        "]\n",
        "\n",
        "# Custom function to replace values based on multiple ranges\n",
        "def replace_multiple_ranges(x, ranges_and_values):\n",
        "    for values, new_value in ranges_and_values:\n",
        "        if type(values) == tuple and x[0] != 'V' and x[0] != 'E' and x != '?':\n",
        "            if values[0] <= int(float(x)) <= values[1]:\n",
        "                return new_value\n",
        "        elif type(values) == str and x[0] == values:\n",
        "            return new_value\n",
        "    return x"
      ]
    },
    {
      "cell_type": "code",
      "execution_count": 2,
      "metadata": {
        "id": "cKZ5U-rb4bz9"
      },
      "outputs": [],
      "source": [
        "# Apply the custom function to the diagnosis columns\n",
        "diabetes_dataset['diag_1'] = diabetes_dataset['diag_1'].apply(replace_multiple_ranges, args=(ICD9_mapping,))\n",
        "diabetes_dataset['diag_2'] = diabetes_dataset['diag_2'].apply(replace_multiple_ranges, args=(ICD9_mapping,))\n",
        "diabetes_dataset['diag_3'] = diabetes_dataset['diag_3'].apply(replace_multiple_ranges, args=(ICD9_mapping,))\n",
        "\n",
        "# Replace '?' with 'no record' across diag_2 and diag_3\n",
        "diabetes_dataset[['diag_2', 'diag_3']] = diabetes_dataset[['diag_2', 'diag_3']].replace('?', 'no record')\n",
        "\n",
        "# Replace '?' with NaN\n",
        "diabetes_dataset[['race', 'diag_1']] = diabetes_dataset[['race', 'diag_1']].replace('?', np.nan)\n",
        "\n",
        "# Drop rows with missing values in columns 'race' and 'diag_1'\n",
        "diabetes_dataset.dropna(subset=['race', 'diag_1'], inplace=True)"
      ]
    },
    {
      "cell_type": "code",
      "execution_count": 3,
      "metadata": {
        "id": "eXnLopVO4bz-"
      },
      "outputs": [],
      "source": [
        "admission_type_id_mapping = {1:'Emergency',\n",
        "                             2:'Urgent',\n",
        "                             3:'Elective',\n",
        "                             4:'Newborn',\n",
        "                             5:'Not Available',\n",
        "                             6:'NULL',\n",
        "                             7:'Trauma Center',\n",
        "                             8:'Not Mapped'\n",
        "                            }\n",
        "\n",
        "discharge_disposition_id_mapping = {1: 'ischarged to home',\n",
        "                                    2:'ischarged/transferred to another short term hospital',\n",
        "                                    3:'ischarged/transferred to SNF',\n",
        "                                    4:'ischarged/transferred to ICF',\n",
        "                                    5:'ischarged/transferred to another type of inpatient care institution',\n",
        "                                    6:'ischarged/transferred to home with home health service',\n",
        "                                    7:'eft AMA',\n",
        "                                    8:'ischarged/transferred to home under care of Home IV provider',\n",
        "                                    9:'dmitted as an inpatient to this hospital',\n",
        "                                    10:'Neonate discharged to another hospital for neonatal aftercare',\n",
        "                                    11:'Expired',\n",
        "                                    12:'Still patient or expected to return for outpatient services',\n",
        "                                    13:'Hospice / home',\n",
        "                                    14:'Hospice / medical facility',\n",
        "                                    15:'Discharged/transferred within this institution to Medicare approved swing bed',\n",
        "                                    16:'Discharged/transferred/referred another institution for outpatient services',\n",
        "                                    17:'Discharged/transferred/referred to this institution for outpatient services',\n",
        "                                    18:'NULL',\n",
        "                                    19:'Expired at home. Medicaid only, hospice.',\n",
        "                                    20:'Expired in a medical facility. Medicaid only, hospice.',\n",
        "                                    21:'Expired, place unknown. Medicaid only, hospice.',\n",
        "                                    22:'Discharged/transferred to another rehab fac including rehab units of a hospital.',\n",
        "                                    23:'Discharged/transferred to a long term care hospital.',\n",
        "                                    24:'Discharged/transferred to a nursing facility certified under Medicaid but not certified under Medicare.',\n",
        "                                    25:'Not Mapped',\n",
        "                                    26:'Unknown/Invalid',\n",
        "                                    30:'Discharged/transferred to another Type of Health Care Institution not Defined Elsewhere',\n",
        "                                    27:'Discharged/transferred to a federal health care facility.',\n",
        "                                    28:'Discharged/transferred/referred to a psychiatric hospital of psychiatric distinct part unit of a hospital',\n",
        "                                    29:'Discharged/transferred to a Critical Access Hospital (CAH).'\n",
        "                                    }\n",
        "\n",
        "admission_source_id_mapping = {1: 'Physician Referral',\n",
        "                               2: 'Clinic Referral',\n",
        "                               3: 'HMO Referral',\n",
        "                               4: 'Transfer from a hospital',\n",
        "                               5: 'Transfer from a Skilled Nursing Facility (SNF)',\n",
        "                               6: 'Transfer from another health care facility',\n",
        "                               7: 'Emergency Room',\n",
        "                               8: 'Court/Law Enforcement',\n",
        "                               9: 'Not Available',\n",
        "                               10:' Transfer from critial access hospital',\n",
        "                               11:' Normal Delivery',\n",
        "                               12:' Premature Delivery',\n",
        "                               13:' Sick Baby',\n",
        "                               14:' Extramural Birth',\n",
        "                               15:' Not Available',\n",
        "                               17:' NULL',\n",
        "                               18:' Transfer From Another Home Health Agency',\n",
        "                               19:' Readmission to Same Home Health Agency',\n",
        "                               20:' Not Mapped',\n",
        "                               21:' Unknown/Invalid',\n",
        "                               22:' Transfer from hospital inpt/same fac reslt in a sep claim',\n",
        "                               23:' Born inside this hospital',\n",
        "                               24:' Born outside this hospital',\n",
        "                               25:' Transfer from Ambulatory Surgery Center',\n",
        "                               26:' Transfer from Hospice'\n",
        "                               }\n",
        "\n",
        "diabetes_dataset['admission_type_id'] = diabetes_dataset['admission_type_id'].replace(admission_type_id_mapping)\n",
        "diabetes_dataset['discharge_disposition_id'] = diabetes_dataset['discharge_disposition_id'].replace(discharge_disposition_id_mapping)\n",
        "diabetes_dataset['admission_source_id'] = diabetes_dataset['admission_source_id'].replace(admission_source_id_mapping)"
      ]
    },
    {
      "cell_type": "code",
      "execution_count": 4,
      "metadata": {
        "id": "CuJRAdzv4bz-"
      },
      "outputs": [],
      "source": [
        "# Function to calculate differences between consecutive rows\n",
        "def calculate_differences(diabetes_dataset, idx1, idx2):\n",
        "    differences = {}\n",
        "    for column in diabetes_dataset.columns:\n",
        "        if column != 'readmitted':\n",
        "            if pd.api.types.is_numeric_dtype(diabetes_dataset[column]):\n",
        "                differences[column] = diabetes_dataset.at[idx1, column] - diabetes_dataset.at[idx2, column]\n",
        "            else:\n",
        "                differences[column] = 1 if diabetes_dataset.at[idx1, column] != diabetes_dataset.at[idx2, column] else 0\n",
        "    return differences\n",
        "\n",
        "# Function to identify shifts and calculate differences within a group\n",
        "def process_group(group):\n",
        "    shifts = ((group['readmitted'] == '<30') & ((group['readmitted'].shift(1) == 'NO') | (group['readmitted'].shift(1) == '>30')))\n",
        "    shift_indices = group.index[shifts]\n",
        "\n",
        "\n",
        "    differences_list = []\n",
        "    for idx in shift_indices:\n",
        "        if idx > group.index.min():\n",
        "            prev_idx = group.index[group.index.get_loc(idx) - 1]  # Safely get the previous index\n",
        "            differences = calculate_differences(group, prev_idx, idx)\n",
        "            differences_list.append(differences)\n",
        "\n",
        "    return differences_list"
      ]
    },
    {
      "cell_type": "code",
      "execution_count": 5,
      "metadata": {
        "id": "x5QqSSK84bz_"
      },
      "outputs": [],
      "source": [
        "# Apply the function to each group and collect all differences\n",
        "all_differences = []\n",
        "for patient_id, group in diabetes_dataset.groupby('patient_nbr'):\n",
        "    all_differences.extend(process_group(group))\n",
        "\n",
        "# Convert list of differences to a DataFrame\n",
        "differences_diabetes_dataset = pd.DataFrame(all_differences)\n",
        "\n",
        "# Calculate the mean differences (normalize by the number of shifts)\n",
        "normalized_differences = differences_diabetes_dataset.abs().mean()\n",
        "\n",
        "# Get feature names with normalized difference value below 0.01\n",
        "features_below_threshold = normalized_differences[normalized_differences < 0.01].index.tolist()\n",
        "\n",
        "\n",
        "# Ensure the column to keep is not in the columns to drop\n",
        "columns_to_drop = [col for col in features_below_threshold if col != 'patient_nbr']\n",
        "\n",
        "diabetes_dataset_important_features = diabetes_dataset.drop(columns_to_drop, axis=1)\n",
        "diabetes_dataset_important_features.drop(['encounter_id'], axis=1, inplace=True)"
      ]
    },
    {
      "cell_type": "code",
      "execution_count": 6,
      "metadata": {
        "id": "7_cR8Zse4b0A"
      },
      "outputs": [],
      "source": [
        "# select all categorical columns\n",
        "categorical_columns = [col for col in diabetes_dataset_important_features.columns if not pd.api.types.is_numeric_dtype(diabetes_dataset_important_features[col])]\n",
        "\n",
        "# Apply One-Hot Encoding for nominal categorical columns\n",
        "one_hot_encoder = OneHotEncoder(drop='first', sparse_output=False)\n",
        "one_hot_encoded = one_hot_encoder.fit_transform(diabetes_dataset_important_features[categorical_columns])\n",
        "\n",
        "# Ensure correct shape when creating DataFrame for one-hot encoded data\n",
        "one_hot_encoded_df = pd.DataFrame(one_hot_encoded, columns=one_hot_encoder.get_feature_names_out(categorical_columns), index=diabetes_dataset_important_features.index)\n",
        "\n",
        "# Combine one-hot encoded columns with the rest of the DataFrame\n",
        "df_encoded = pd.concat([diabetes_dataset_important_features.drop(columns=categorical_columns), one_hot_encoded_df], axis=1)"
      ]
    },
    {
      "cell_type": "code",
      "execution_count": 7,
      "metadata": {
        "id": "4e3IcMG_4b0B"
      },
      "outputs": [],
      "source": [
        "# Define the unique identifier column\n",
        "unique_id_column = 'patient_nbr'\n",
        "\n",
        "# Split into training and remaining sets (validation + test)\n",
        "splitter = GroupShuffleSplit(n_splits=1, test_size=0.4, random_state=42)\n",
        "train_idx, remaining_idx = next(splitter.split(df_encoded, groups=df_encoded[unique_id_column]))\n",
        "\n",
        "train_df = df_encoded.iloc[train_idx]\n",
        "remaining_df = df_encoded.iloc[remaining_idx]\n",
        "\n",
        "# Split remaining set into validation and test sets\n",
        "splitter = GroupShuffleSplit(n_splits=1, test_size=0.5, random_state=42)\n",
        "val_idx, test_idx = next(splitter.split(remaining_df, groups=remaining_df[unique_id_column]))\n",
        "\n",
        "val_df = remaining_df.iloc[val_idx]\n",
        "test_df = remaining_df.iloc[test_idx]\n",
        "\n",
        "# remove patient number after use for splitting\n",
        "train_df, val_df, test_df = train_df.drop(['patient_nbr'], axis=1), val_df.drop(['patient_nbr'], axis=1), test_df.drop(['patient_nbr'], axis=1)\n"
      ]
    },
    {
      "cell_type": "code",
      "execution_count": 8,
      "metadata": {
        "colab": {
          "base_uri": "https://localhost:8080/"
        },
        "id": "fOJM3hQW4b0B",
        "outputId": "d2c413b7-652a-41b1-a350-94766c251613"
      },
      "outputs": [
        {
          "output_type": "stream",
          "name": "stdout",
          "text": [
            "Requirement already satisfied: tensorflow in /usr/local/lib/python3.10/dist-packages (2.15.0)\n",
            "Requirement already satisfied: absl-py>=1.0.0 in /usr/local/lib/python3.10/dist-packages (from tensorflow) (1.4.0)\n",
            "Requirement already satisfied: astunparse>=1.6.0 in /usr/local/lib/python3.10/dist-packages (from tensorflow) (1.6.3)\n",
            "Requirement already satisfied: flatbuffers>=23.5.26 in /usr/local/lib/python3.10/dist-packages (from tensorflow) (24.3.25)\n",
            "Requirement already satisfied: gast!=0.5.0,!=0.5.1,!=0.5.2,>=0.2.1 in /usr/local/lib/python3.10/dist-packages (from tensorflow) (0.5.4)\n",
            "Requirement already satisfied: google-pasta>=0.1.1 in /usr/local/lib/python3.10/dist-packages (from tensorflow) (0.2.0)\n",
            "Requirement already satisfied: h5py>=2.9.0 in /usr/local/lib/python3.10/dist-packages (from tensorflow) (3.9.0)\n",
            "Requirement already satisfied: libclang>=13.0.0 in /usr/local/lib/python3.10/dist-packages (from tensorflow) (18.1.1)\n",
            "Requirement already satisfied: ml-dtypes~=0.2.0 in /usr/local/lib/python3.10/dist-packages (from tensorflow) (0.2.0)\n",
            "Requirement already satisfied: numpy<2.0.0,>=1.23.5 in /usr/local/lib/python3.10/dist-packages (from tensorflow) (1.25.2)\n",
            "Requirement already satisfied: opt-einsum>=2.3.2 in /usr/local/lib/python3.10/dist-packages (from tensorflow) (3.3.0)\n",
            "Requirement already satisfied: packaging in /usr/local/lib/python3.10/dist-packages (from tensorflow) (24.1)\n",
            "Requirement already satisfied: protobuf!=4.21.0,!=4.21.1,!=4.21.2,!=4.21.3,!=4.21.4,!=4.21.5,<5.0.0dev,>=3.20.3 in /usr/local/lib/python3.10/dist-packages (from tensorflow) (3.20.3)\n",
            "Requirement already satisfied: setuptools in /usr/local/lib/python3.10/dist-packages (from tensorflow) (67.7.2)\n",
            "Requirement already satisfied: six>=1.12.0 in /usr/local/lib/python3.10/dist-packages (from tensorflow) (1.16.0)\n",
            "Requirement already satisfied: termcolor>=1.1.0 in /usr/local/lib/python3.10/dist-packages (from tensorflow) (2.4.0)\n",
            "Requirement already satisfied: typing-extensions>=3.6.6 in /usr/local/lib/python3.10/dist-packages (from tensorflow) (4.12.2)\n",
            "Requirement already satisfied: wrapt<1.15,>=1.11.0 in /usr/local/lib/python3.10/dist-packages (from tensorflow) (1.14.1)\n",
            "Requirement already satisfied: tensorflow-io-gcs-filesystem>=0.23.1 in /usr/local/lib/python3.10/dist-packages (from tensorflow) (0.37.0)\n",
            "Requirement already satisfied: grpcio<2.0,>=1.24.3 in /usr/local/lib/python3.10/dist-packages (from tensorflow) (1.64.1)\n",
            "Requirement already satisfied: tensorboard<2.16,>=2.15 in /usr/local/lib/python3.10/dist-packages (from tensorflow) (2.15.2)\n",
            "Requirement already satisfied: tensorflow-estimator<2.16,>=2.15.0 in /usr/local/lib/python3.10/dist-packages (from tensorflow) (2.15.0)\n",
            "Requirement already satisfied: keras<2.16,>=2.15.0 in /usr/local/lib/python3.10/dist-packages (from tensorflow) (2.15.0)\n",
            "Requirement already satisfied: wheel<1.0,>=0.23.0 in /usr/local/lib/python3.10/dist-packages (from astunparse>=1.6.0->tensorflow) (0.43.0)\n",
            "Requirement already satisfied: google-auth<3,>=1.6.3 in /usr/local/lib/python3.10/dist-packages (from tensorboard<2.16,>=2.15->tensorflow) (2.27.0)\n",
            "Requirement already satisfied: google-auth-oauthlib<2,>=0.5 in /usr/local/lib/python3.10/dist-packages (from tensorboard<2.16,>=2.15->tensorflow) (1.2.0)\n",
            "Requirement already satisfied: markdown>=2.6.8 in /usr/local/lib/python3.10/dist-packages (from tensorboard<2.16,>=2.15->tensorflow) (3.6)\n",
            "Requirement already satisfied: requests<3,>=2.21.0 in /usr/local/lib/python3.10/dist-packages (from tensorboard<2.16,>=2.15->tensorflow) (2.31.0)\n",
            "Requirement already satisfied: tensorboard-data-server<0.8.0,>=0.7.0 in /usr/local/lib/python3.10/dist-packages (from tensorboard<2.16,>=2.15->tensorflow) (0.7.2)\n",
            "Requirement already satisfied: werkzeug>=1.0.1 in /usr/local/lib/python3.10/dist-packages (from tensorboard<2.16,>=2.15->tensorflow) (3.0.3)\n",
            "Requirement already satisfied: cachetools<6.0,>=2.0.0 in /usr/local/lib/python3.10/dist-packages (from google-auth<3,>=1.6.3->tensorboard<2.16,>=2.15->tensorflow) (5.3.3)\n",
            "Requirement already satisfied: pyasn1-modules>=0.2.1 in /usr/local/lib/python3.10/dist-packages (from google-auth<3,>=1.6.3->tensorboard<2.16,>=2.15->tensorflow) (0.4.0)\n",
            "Requirement already satisfied: rsa<5,>=3.1.4 in /usr/local/lib/python3.10/dist-packages (from google-auth<3,>=1.6.3->tensorboard<2.16,>=2.15->tensorflow) (4.9)\n",
            "Requirement already satisfied: requests-oauthlib>=0.7.0 in /usr/local/lib/python3.10/dist-packages (from google-auth-oauthlib<2,>=0.5->tensorboard<2.16,>=2.15->tensorflow) (1.3.1)\n",
            "Requirement already satisfied: charset-normalizer<4,>=2 in /usr/local/lib/python3.10/dist-packages (from requests<3,>=2.21.0->tensorboard<2.16,>=2.15->tensorflow) (3.3.2)\n",
            "Requirement already satisfied: idna<4,>=2.5 in /usr/local/lib/python3.10/dist-packages (from requests<3,>=2.21.0->tensorboard<2.16,>=2.15->tensorflow) (3.7)\n",
            "Requirement already satisfied: urllib3<3,>=1.21.1 in /usr/local/lib/python3.10/dist-packages (from requests<3,>=2.21.0->tensorboard<2.16,>=2.15->tensorflow) (2.0.7)\n",
            "Requirement already satisfied: certifi>=2017.4.17 in /usr/local/lib/python3.10/dist-packages (from requests<3,>=2.21.0->tensorboard<2.16,>=2.15->tensorflow) (2024.6.2)\n",
            "Requirement already satisfied: MarkupSafe>=2.1.1 in /usr/local/lib/python3.10/dist-packages (from werkzeug>=1.0.1->tensorboard<2.16,>=2.15->tensorflow) (2.1.5)\n",
            "Requirement already satisfied: pyasn1<0.7.0,>=0.4.6 in /usr/local/lib/python3.10/dist-packages (from pyasn1-modules>=0.2.1->google-auth<3,>=1.6.3->tensorboard<2.16,>=2.15->tensorflow) (0.6.0)\n",
            "Requirement already satisfied: oauthlib>=3.0.0 in /usr/local/lib/python3.10/dist-packages (from requests-oauthlib>=0.7.0->google-auth-oauthlib<2,>=0.5->tensorboard<2.16,>=2.15->tensorflow) (3.2.2)\n",
            "Collecting shap\n",
            "  Downloading shap-0.45.1-cp310-cp310-manylinux_2_12_x86_64.manylinux2010_x86_64.manylinux_2_17_x86_64.manylinux2014_x86_64.whl (540 kB)\n",
            "\u001b[2K     \u001b[90m━━━━━━━━━━━━━━━━━━━━━━━━━━━━━━━━━━━━━━━━\u001b[0m \u001b[32m540.5/540.5 kB\u001b[0m \u001b[31m8.2 MB/s\u001b[0m eta \u001b[36m0:00:00\u001b[0m\n",
            "\u001b[?25hRequirement already satisfied: numpy in /usr/local/lib/python3.10/dist-packages (from shap) (1.25.2)\n",
            "Requirement already satisfied: scipy in /usr/local/lib/python3.10/dist-packages (from shap) (1.11.4)\n",
            "Requirement already satisfied: scikit-learn in /usr/local/lib/python3.10/dist-packages (from shap) (1.2.2)\n",
            "Requirement already satisfied: pandas in /usr/local/lib/python3.10/dist-packages (from shap) (2.0.3)\n",
            "Requirement already satisfied: tqdm>=4.27.0 in /usr/local/lib/python3.10/dist-packages (from shap) (4.66.4)\n",
            "Requirement already satisfied: packaging>20.9 in /usr/local/lib/python3.10/dist-packages (from shap) (24.1)\n",
            "Collecting slicer==0.0.8 (from shap)\n",
            "  Downloading slicer-0.0.8-py3-none-any.whl (15 kB)\n",
            "Requirement already satisfied: numba in /usr/local/lib/python3.10/dist-packages (from shap) (0.58.1)\n",
            "Requirement already satisfied: cloudpickle in /usr/local/lib/python3.10/dist-packages (from shap) (2.2.1)\n",
            "Requirement already satisfied: llvmlite<0.42,>=0.41.0dev0 in /usr/local/lib/python3.10/dist-packages (from numba->shap) (0.41.1)\n",
            "Requirement already satisfied: python-dateutil>=2.8.2 in /usr/local/lib/python3.10/dist-packages (from pandas->shap) (2.8.2)\n",
            "Requirement already satisfied: pytz>=2020.1 in /usr/local/lib/python3.10/dist-packages (from pandas->shap) (2023.4)\n",
            "Requirement already satisfied: tzdata>=2022.1 in /usr/local/lib/python3.10/dist-packages (from pandas->shap) (2024.1)\n",
            "Requirement already satisfied: joblib>=1.1.1 in /usr/local/lib/python3.10/dist-packages (from scikit-learn->shap) (1.4.2)\n",
            "Requirement already satisfied: threadpoolctl>=2.0.0 in /usr/local/lib/python3.10/dist-packages (from scikit-learn->shap) (3.5.0)\n",
            "Requirement already satisfied: six>=1.5 in /usr/local/lib/python3.10/dist-packages (from python-dateutil>=2.8.2->pandas->shap) (1.16.0)\n",
            "Installing collected packages: slicer, shap\n",
            "Successfully installed shap-0.45.1 slicer-0.0.8\n"
          ]
        }
      ],
      "source": [
        "! pip install tensorflow\n",
        "! pip install shap\n",
        "import tensorflow as tf\n",
        "from tensorflow.keras.models import Sequential\n",
        "from tensorflow.keras.layers import Dense\n",
        "from sklearn.datasets import load_iris\n",
        "from sklearn.model_selection import train_test_split\n",
        "from sklearn.preprocessing import StandardScaler\n",
        "import shap"
      ]
    },
    {
      "cell_type": "code",
      "execution_count": 9,
      "metadata": {
        "id": "Y-sNGASx4b0C"
      },
      "outputs": [],
      "source": [
        "def load_data(dataset, train_size=0.7, val_size=0.15, test_size=0.15, random_state=42):\n",
        "    # Ensure the proportions sum to 1.0\n",
        "    assert train_size + val_size + test_size == 1.0, \"Train, validation, and test sizes must sum to 1.0\"\n",
        "\n",
        "    # Split unique patient numbers into train, validation, and test sets\n",
        "    unique_patients = dataset['patient_nbr'].unique()\n",
        "    train_patients, remaining_patients = train_test_split(unique_patients, train_size=train_size, random_state=random_state)\n",
        "    val_proportion = val_size / (val_size + test_size)\n",
        "    val_patients, test_patients = train_test_split(remaining_patients, train_size=val_proportion, random_state=random_state)\n",
        "\n",
        "    # Select records based on the patient splits\n",
        "    train_set = dataset[dataset['patient_nbr'].isin(train_patients)]\n",
        "    val_set = dataset[dataset['patient_nbr'].isin(val_patients)]\n",
        "    test_set = dataset[dataset['patient_nbr'].isin(test_patients)]\n",
        "\n",
        "    # Split features and labels\n",
        "    def split_feature_label(data_set):\n",
        "        features = data_set.drop(columns=['readmitted'])\n",
        "        labels = data_set['readmitted']\n",
        "        return features, labels\n",
        "\n",
        "    train_features, train_labels = split_feature_label(train_set)\n",
        "    val_features, val_labels = split_feature_label(val_set)\n",
        "    test_features, test_labels = split_feature_label(test_set)\n",
        "\n",
        "    return train_features, train_labels, val_features, val_labels, test_features, test_labels\n"
      ]
    },
    {
      "cell_type": "code",
      "execution_count": 22,
      "metadata": {
        "id": "ztPrwFCo4b0C"
      },
      "outputs": [],
      "source": [
        "\n",
        "from sklearn.preprocessing import StandardScaler, LabelEncoder\n",
        "# Identify categorical features\n",
        "categorical_features = diabetes_dataset_important_features.select_dtypes(include=['object', 'category']).columns.tolist()\n",
        "\n",
        "le_feat=LabelEncoder()\n",
        "for col_name in categorical_features:\n",
        "    diabetes_dataset_important_features[col_name] = le_feat.fit_transform(diabetes_dataset_important_features[col_name])\n",
        "(train_features, train_labels, val_features, val_labels, test_features, test_labels) = load_data(diabetes_dataset_important_features)\n",
        "features_names=test_features.columns.values\n",
        "scaler = StandardScaler()\n",
        "train_features = scaler.fit_transform(train_features)\n",
        "val_features = scaler.transform(val_features)\n",
        "test_features = scaler.transform(test_features)\n",
        "\n",
        "train_labels_array=np.array(train_labels, dtype=np.float32)\n",
        "train_features_array=np.array(train_features, dtype=np.float32)\n",
        "test_labels_array=np.array(test_labels, dtype=np.float32)\n",
        "test_features_array=np.array(test_features, dtype=np.float32)\n",
        "val_features_array=np.array(val_features, dtype=np.float32)\n",
        "val_labels_array=np.array(val_labels, dtype=np.float32)\n"
      ]
    },
    {
      "cell_type": "code",
      "execution_count": 23,
      "metadata": {
        "colab": {
          "base_uri": "https://localhost:8080/"
        },
        "id": "rnfYV7w64b0C",
        "outputId": "bd46860e-7a22-46e1-a50f-dccc997c736f"
      },
      "outputs": [
        {
          "output_type": "execute_result",
          "data": {
            "text/plain": [
              "array([-1.40553697,  1.19519684, -0.45318085,  0.44104058, -0.17154216,\n",
              "       -0.13005932,  1.2694858 ,  0.3867596 ,  0.85926686, -0.28960511,\n",
              "       -0.23240743, -0.50306151,  0.98979019,  0.15562046,  1.58081653,\n",
              "        0.81063615,  0.21333852, -3.43761256,  1.86018744, -0.11447731,\n",
              "       -0.20749323, -0.33307615, -0.29349458, -0.26559369, -0.24703925,\n",
              "       -0.48028395,  0.92071736,  0.55141211])"
            ]
          },
          "metadata": {},
          "execution_count": 23
        }
      ],
      "source": [
        "train_features[1]\n",
        "train_features[2]\n",
        "train_features[3]"
      ]
    },
    {
      "cell_type": "code",
      "execution_count": 24,
      "metadata": {
        "colab": {
          "base_uri": "https://localhost:8080/"
        },
        "id": "lu45bu1o4b0D",
        "outputId": "0aae2019-6c6e-4c9b-f50e-05563caeaf30"
      },
      "outputs": [
        {
          "output_type": "stream",
          "name": "stdout",
          "text": [
            "6959/6959 [==============================] - 31s 4ms/step - loss: 0.9002 - accuracy: 0.5771 - val_loss: 0.9359 - val_accuracy: 0.5050\n"
          ]
        },
        {
          "output_type": "execute_result",
          "data": {
            "text/plain": [
              "<keras.src.callbacks.History at 0x7eb12b10df00>"
            ]
          },
          "metadata": {},
          "execution_count": 24
        }
      ],
      "source": [
        "\n",
        "model = Sequential([\n",
        "    Dense(128, activation='relu', input_shape=(train_features.shape[1],)),\n",
        "    Dense(64, activation='relu'),\n",
        "    Dense(32, activation='relu'),\n",
        "    Dense(3, activation='softmax')\n",
        "])\n",
        "model.compile(optimizer='adam', loss='sparse_categorical_crossentropy', metrics=['accuracy'])\n",
        "\n",
        "# Train the model\n",
        "model.fit(train_features_array, train_labels_array, epochs=1, batch_size=8, validation_split=0.2)\n"
      ]
    },
    {
      "cell_type": "code",
      "execution_count": 59,
      "metadata": {
        "colab": {
          "base_uri": "https://localhost:8080/",
          "height": 803,
          "referenced_widgets": [
            "84afb2fafe584eacac824b6841d6985c",
            "2f42d6bca5d24bffa48ab86c61faa3af",
            "008d491b8d3e440fa18dd47efbfad1c9",
            "ca182f5f102b4ef4aa36d579fa6414cc",
            "8254da61991b498c80ef928935b79fc4",
            "8adb0c7123c34e7895154e0efa3c29f1",
            "78d17266f0dc4ceebdd5700cbebfa1b0",
            "c57b954c64894990898432aadcbbf0b6",
            "58030e1af1664360937be0c56b704cb2",
            "80ac6db144804e6e8baec6b7f8cc909c",
            "a34258fcc09445a0994304d88a38600b"
          ]
        },
        "id": "iuDljKrI4b0D",
        "outputId": "d4d5a727-eb5e-4941-a5bc-b45656834c48"
      },
      "outputs": [
        {
          "output_type": "stream",
          "name": "stdout",
          "text": [
            "Shape of train_features_array: (69587, 28)\n",
            "Shape of test_features_array: (14896, 28)\n"
          ]
        },
        {
          "output_type": "display_data",
          "data": {
            "text/plain": [
              "  0%|          | 0/100 [00:00<?, ?it/s]"
            ],
            "application/vnd.jupyter.widget-view+json": {
              "version_major": 2,
              "version_minor": 0,
              "model_id": "84afb2fafe584eacac824b6841d6985c"
            }
          },
          "metadata": {}
        },
        {
          "output_type": "stream",
          "name": "stdout",
          "text": [
            "(100, 28, 3)\n",
            "Shape of shap_values: (100, 28, 3)\n"
          ]
        },
        {
          "output_type": "display_data",
          "data": {
            "text/plain": [
              "<Figure size 1150x660 with 3 Axes>"
            ],
            "image/png": "[encoded data removed]"
          },
          "metadata": {}
        }
      ],
      "source": [
        "import shap\n",
        "import numpy as np\n",
        "\n",
        "# Ensure that the shapes are correct\n",
        "print(f\"Shape of train_features_array: {train_features_array.shape}\")\n",
        "print(f\"Shape of test_features_array: {test_features_array.shape}\")\n",
        "\n",
        "# Initialize SHAP KernelExplainer with the model's prediction function\n",
        "explainer = shap.KernelExplainer(model, train_features_array[:100])\n",
        "\n",
        "# Calculate SHAP values for the test set\n",
        "shap_values = explainer.shap_values(test_features_array[:100])\n",
        "# Ensure the shapes of shap_values and test_features_array are compatible\n",
        "print(f\"Shape of shap_values: {shap_values.shape}\")\n",
        "\n",
        "# Select a slice of test_features_array (e.g., the first 100 samples)\n",
        "slice_indices = slice(0, 100)  # Adjust indices as needed\n",
        "test_features_slice = test_features_array[slice_indices]\n",
        "\n",
        "# Plot the SHAP summary plot for the selected slice\n",
        "shap.summary_plot(shap_values[slice_indices], test_features_slice, feature_names=features_names)\n"
      ]
    },
    {
      "cell_type": "code",
      "execution_count": 57,
      "metadata": {
        "colab": {
          "base_uri": "https://localhost:8080/",
          "height": 715
        },
        "id": "ICGA0Z5s4b0D",
        "outputId": "9c26a119-d611-4563-8ff0-5689e2732a80"
      },
      "outputs": [
        {
          "output_type": "display_data",
          "data": {
            "text/plain": [
              "<Figure size 1000x800 with 0 Axes>"
            ]
          },
          "metadata": {}
        },
        {
          "output_type": "display_data",
          "data": {
            "text/plain": [
              "<Figure size 1150x660 with 3 Axes>"
            ],
            "image/png": "[encoded data removed]"
          },
          "metadata": {}
        }
      ],
      "source": [
        "import matplotlib.pyplot as plt\n",
        "\n",
        "# Set figure size\n",
        "plt.figure(figsize=(10, 8))  # Adjust dimensions as needed\n",
        "\n",
        "# Plot the SHAP summary plot\n",
        "\n",
        "shap.summary_plot(shap_values, test_features_array[:100], feature_names=features_names,plot_type=\"bar\")\n"
      ]
    },
    {
      "cell_type": "code",
      "source": [],
      "metadata": {
        "id": "1Wzh2KWHLbKw"
      },
      "execution_count": null,
      "outputs": []
    }
  ],
  "metadata": {
    "kernelspec": {
      "display_name": "Python 3",
      "name": "python3"
    },
    "language_info": {
      "codemirror_mode": {
        "name": "ipython",
        "version": 3
      },
      "file_extension": ".py",
      "mimetype": "text/x-python",
      "name": "python",
      "nbconvert_exporter": "python",
      "pygments_lexer": "ipython3",
      "version": "3.10.13"
    },
    "colab": {
      "provenance": [],
      "gpuType": "T4"
    },
    "accelerator": "GPU",
    "widgets": {
      "application/vnd.jupyter.widget-state+json": {
        "84afb2fafe584eacac824b6841d6985c": {
          "model_module": "@jupyter-widgets/controls",
          "model_name": "HBoxModel",
          "model_module_version": "1.5.0",
          "state": {
            "_dom_classes": [],
            "_model_module": "@jupyter-widgets/controls",
            "_model_module_version": "1.5.0",
            "_model_name": "HBoxModel",
            "_view_count": null,
            "_view_module": "@jupyter-widgets/controls",
            "_view_module_version": "1.5.0",
            "_view_name": "HBoxView",
            "box_style": "",
            "children": [
              "IPY_MODEL_2f42d6bca5d24bffa48ab86c61faa3af",
              "IPY_MODEL_008d491b8d3e440fa18dd47efbfad1c9",
              "IPY_MODEL_ca182f5f102b4ef4aa36d579fa6414cc"
            ],
            "layout": "IPY_MODEL_8254da61991b498c80ef928935b79fc4"
          }
        },
        "2f42d6bca5d24bffa48ab86c61faa3af": {
          "model_module": "@jupyter-widgets/controls",
          "model_name": "HTMLModel",
          "model_module_version": "1.5.0",
          "state": {
            "_dom_classes": [],
            "_model_module": "@jupyter-widgets/controls",
            "_model_module_version": "1.5.0",
            "_model_name": "HTMLModel",
            "_view_count": null,
            "_view_module": "@jupyter-widgets/controls",
            "_view_module_version": "1.5.0",
            "_view_name": "HTMLView",
            "description": "",
            "description_tooltip": null,
            "layout": "IPY_MODEL_8adb0c7123c34e7895154e0efa3c29f1",
            "placeholder": "​",
            "style": "IPY_MODEL_78d17266f0dc4ceebdd5700cbebfa1b0",
            "value": "100%"
          }
        },
        "008d491b8d3e440fa18dd47efbfad1c9": {
          "model_module": "@jupyter-widgets/controls",
          "model_name": "FloatProgressModel",
          "model_module_version": "1.5.0",
          "state": {
            "_dom_classes": [],
            "_model_module": "@jupyter-widgets/controls",
            "_model_module_version": "1.5.0",
            "_model_name": "FloatProgressModel",
            "_view_count": null,
            "_view_module": "@jupyter-widgets/controls",
            "_view_module_version": "1.5.0",
            "_view_name": "ProgressView",
            "bar_style": "success",
            "description": "",
            "description_tooltip": null,
            "layout": "IPY_MODEL_c57b954c64894990898432aadcbbf0b6",
            "max": 100,
            "min": 0,
            "orientation": "horizontal",
            "style": "IPY_MODEL_58030e1af1664360937be0c56b704cb2",
            "value": 100
          }
        },
        "ca182f5f102b4ef4aa36d579fa6414cc": {
          "model_module": "@jupyter-widgets/controls",
          "model_name": "HTMLModel",
          "model_module_version": "1.5.0",
          "state": {
            "_dom_classes": [],
            "_model_module": "@jupyter-widgets/controls",
            "_model_module_version": "1.5.0",
            "_model_name": "HTMLModel",
            "_view_count": null,
            "_view_module": "@jupyter-widgets/controls",
            "_view_module_version": "1.5.0",
            "_view_name": "HTMLView",
            "description": "",
            "description_tooltip": null,
            "layout": "IPY_MODEL_80ac6db144804e6e8baec6b7f8cc909c",
            "placeholder": "​",
            "style": "IPY_MODEL_a34258fcc09445a0994304d88a38600b",
            "value": " 100/100 [01:35&lt;00:00,  1.14it/s]"
          }
        },
        "8254da61991b498c80ef928935b79fc4": {
          "model_module": "@jupyter-widgets/base",
          "model_name": "LayoutModel",
          "model_module_version": "1.2.0",
          "state": {
            "_model_module": "@jupyter-widgets/base",
            "_model_module_version": "1.2.0",
            "_model_name": "LayoutModel",
            "_view_count": null,
            "_view_module": "@jupyter-widgets/base",
            "_view_module_version": "1.2.0",
            "_view_name": "LayoutView",
            "align_content": null,
            "align_items": null,
            "align_self": null,
            "border": null,
            "bottom": null,
            "display": null,
            "flex": null,
            "flex_flow": null,
            "grid_area": null,
            "grid_auto_columns": null,
            "grid_auto_flow": null,
            "grid_auto_rows": null,
            "grid_column": null,
            "grid_gap": null,
            "grid_row": null,
            "grid_template_areas": null,
            "grid_template_columns": null,
            "grid_template_rows": null,
            "height": null,
            "justify_content": null,
            "justify_items": null,
            "left": null,
            "margin": null,
            "max_height": null,
            "max_width": null,
            "min_height": null,
            "min_width": null,
            "object_fit": null,
            "object_position": null,
            "order": null,
            "overflow": null,
            "overflow_x": null,
            "overflow_y": null,
            "padding": null,
            "right": null,
            "top": null,
            "visibility": null,
            "width": null
          }
        },
        "8adb0c7123c34e7895154e0efa3c29f1": {
          "model_module": "@jupyter-widgets/base",
          "model_name": "LayoutModel",
          "model_module_version": "1.2.0",
          "state": {
            "_model_module": "@jupyter-widgets/base",
            "_model_module_version": "1.2.0",
            "_model_name": "LayoutModel",
            "_view_count": null,
            "_view_module": "@jupyter-widgets/base",
            "_view_module_version": "1.2.0",
            "_view_name": "LayoutView",
            "align_content": null,
            "align_items": null,
            "align_self": null,
            "border": null,
            "bottom": null,
            "display": null,
            "flex": null,
            "flex_flow": null,
            "grid_area": null,
            "grid_auto_columns": null,
            "grid_auto_flow": null,
            "grid_auto_rows": null,
            "grid_column": null,
            "grid_gap": null,
            "grid_row": null,
            "grid_template_areas": null,
            "grid_template_columns": null,
            "grid_template_rows": null,
            "height": null,
            "justify_content": null,
            "justify_items": null,
            "left": null,
            "margin": null,
            "max_height": null,
            "max_width": null,
            "min_height": null,
            "min_width": null,
            "object_fit": null,
            "object_position": null,
            "order": null,
            "overflow": null,
            "overflow_x": null,
            "overflow_y": null,
            "padding": null,
            "right": null,
            "top": null,
            "visibility": null,
            "width": null
          }
        },
        "78d17266f0dc4ceebdd5700cbebfa1b0": {
          "model_module": "@jupyter-widgets/controls",
          "model_name": "DescriptionStyleModel",
          "model_module_version": "1.5.0",
          "state": {
            "_model_module": "@jupyter-widgets/controls",
            "_model_module_version": "1.5.0",
            "_model_name": "DescriptionStyleModel",
            "_view_count": null,
            "_view_module": "@jupyter-widgets/base",
            "_view_module_version": "1.2.0",
            "_view_name": "StyleView",
            "description_width": ""
          }
        },
        "c57b954c64894990898432aadcbbf0b6": {
          "model_module": "@jupyter-widgets/base",
          "model_name": "LayoutModel",
          "model_module_version": "1.2.0",
          "state": {
            "_model_module": "@jupyter-widgets/base",
            "_model_module_version": "1.2.0",
            "_model_name": "LayoutModel",
            "_view_count": null,
            "_view_module": "@jupyter-widgets/base",
            "_view_module_version": "1.2.0",
            "_view_name": "LayoutView",
            "align_content": null,
            "align_items": null,
            "align_self": null,
            "border": null,
            "bottom": null,
            "display": null,
            "flex": null,
            "flex_flow": null,
            "grid_area": null,
            "grid_auto_columns": null,
            "grid_auto_flow": null,
            "grid_auto_rows": null,
            "grid_column": null,
            "grid_gap": null,
            "grid_row": null,
            "grid_template_areas": null,
            "grid_template_columns": null,
            "grid_template_rows": null,
            "height": null,
            "justify_content": null,
            "justify_items": null,
            "left": null,
            "margin": null,
            "max_height": null,
            "max_width": null,
            "min_height": null,
            "min_width": null,
            "object_fit": null,
            "object_position": null,
            "order": null,
            "overflow": null,
            "overflow_x": null,
            "overflow_y": null,
            "padding": null,
            "right": null,
            "top": null,
            "visibility": null,
            "width": null
          }
        },
        "58030e1af1664360937be0c56b704cb2": {
          "model_module": "@jupyter-widgets/controls",
          "model_name": "ProgressStyleModel",
          "model_module_version": "1.5.0",
          "state": {
            "_model_module": "@jupyter-widgets/controls",
            "_model_module_version": "1.5.0",
            "_model_name": "ProgressStyleModel",
            "_view_count": null,
            "_view_module": "@jupyter-widgets/base",
            "_view_module_version": "1.2.0",
            "_view_name": "StyleView",
            "bar_color": null,
            "description_width": ""
          }
        },
        "80ac6db144804e6e8baec6b7f8cc909c": {
          "model_module": "@jupyter-widgets/base",
          "model_name": "LayoutModel",
          "model_module_version": "1.2.0",
          "state": {
            "_model_module": "@jupyter-widgets/base",
            "_model_module_version": "1.2.0",
            "_model_name": "LayoutModel",
            "_view_count": null,
            "_view_module": "@jupyter-widgets/base",
            "_view_module_version": "1.2.0",
            "_view_name": "LayoutView",
            "align_content": null,
            "align_items": null,
            "align_self": null,
            "border": null,
            "bottom": null,
            "display": null,
            "flex": null,
            "flex_flow": null,
            "grid_area": null,
            "grid_auto_columns": null,
            "grid_auto_flow": null,
            "grid_auto_rows": null,
            "grid_column": null,
            "grid_gap": null,
            "grid_row": null,
            "grid_template_areas": null,
            "grid_template_columns": null,
            "grid_template_rows": null,
            "height": null,
            "justify_content": null,
            "justify_items": null,
            "left": null,
            "margin": null,
            "max_height": null,
            "max_width": null,
            "min_height": null,
            "min_width": null,
            "object_fit": null,
            "object_position": null,
            "order": null,
            "overflow": null,
            "overflow_x": null,
            "overflow_y": null,
            "padding": null,
            "right": null,
            "top": null,
            "visibility": null,
            "width": null
          }
        },
        "a34258fcc09445a0994304d88a38600b": {
          "model_module": "@jupyter-widgets/controls",
          "model_name": "DescriptionStyleModel",
          "model_module_version": "1.5.0",
          "state": {
            "_model_module": "@jupyter-widgets/controls",
            "_model_module_version": "1.5.0",
            "_model_name": "DescriptionStyleModel",
            "_view_count": null,
            "_view_module": "@jupyter-widgets/base",
            "_view_module_version": "1.2.0",
            "_view_name": "StyleView",
            "description_width": ""
          }
        }
      }
    }
  },
  "nbformat": 4,
  "nbformat_minor": 0
}